{
 "cells": [
  {
   "cell_type": "markdown",
   "id": "35734827",
   "metadata": {},
   "source": [
    "# Loading profiles from the JUMP Cell Painting Datasets  \n",
    "This notebook loads a small number of plates with precomputed features and the metadata information.\n",
    "## Import libraries"
   ]
  },
  {
   "cell_type": "code",
   "execution_count": null,
   "id": "efc3f590",
   "metadata": {},
   "outputs": [],
   "source": [
    "import io\n",
    "import pandas as pd\n",
    "import plotly.express as px\n",
    "import plotly.io as pio\n",
    "\n",
    "pio.renderers.default = \"png\"  # Set to \"svg\" or \"png\" for static plots or \"notebook_connected\" for interactive plots\n"
   ]
  },
  {
   "cell_type": "markdown",
   "id": "35df7c23",
   "metadata": {},
   "source": [
    "## Helper functions"
   ]
  },
  {
   "cell_type": "code",
   "execution_count": null,
   "id": "d4c5954f",
   "metadata": {},
   "outputs": [],
   "source": [
    "profile_formatter = (\n",
    "    \"s3://cellpainting-gallery/cpg0016-jump/\"\n",
    "    \"{Metadata_Source}/workspace/profiles/\"\n",
    "    \"{Metadata_Batch}/{Metadata_Plate}/{Metadata_Plate}.parquet\"\n",
    ")\n",
    "\n",
    "loaddata_formatter = (\n",
    "    \"s3://cellpainting-gallery/cpg0016-jump/\"\n",
    "    \"{Metadata_Source}/workspace/load_data_csv/\"\n",
    "    \"{Metadata_Batch}/{Metadata_Plate}/load_data_with_illum.parquet\"\n",
    ")\n"
   ]
  },
  {
   "cell_type": "markdown",
   "id": "0eb47982",
   "metadata": {},
   "source": [
    "## Load metadata\n",
    "\n",
    "The following files contain the metadata information for the entire dataset.\n",
    "The schema is [here](metadata/README.md)."
   ]
  },
  {
   "cell_type": "code",
   "execution_count": null,
   "id": "28ef188c",
   "metadata": {},
   "outputs": [],
   "source": [
    "plates = pd.read_csv(\"metadata/plate.csv.gz\")\n",
    "wells = pd.read_csv(\"metadata/well.csv.gz\")\n",
    "compound = pd.read_csv(\"metadata/compound.csv.gz\")\n",
    "orf = pd.read_csv(\"metadata/orf.csv.gz\")\n"
   ]
  },
  {
   "cell_type": "markdown",
   "id": "850df1c5",
   "metadata": {},
   "source": [
    "## Sample plates\n",
    "Let's sample two plates of a certain type (encoded in `Metadata_PlateType`) from each data-generating center (`Metadata_Source`). Note that only 6 out of the 12 sources are currently available. "
   ]
  },
  {
   "cell_type": "code",
   "execution_count": null,
   "id": "084e3ba4",
   "metadata": {},
   "outputs": [],
   "source": [
    "sample = (\n",
    "    plates.query('Metadata_PlateType==\"TARGET2\"')\n",
    "    .groupby(\"Metadata_Source\")\n",
    "    .sample(2, random_state=42)\n",
    ")\n",
    "sample\n"
   ]
  },
  {
   "cell_type": "markdown",
   "id": "3e59950c",
   "metadata": {},
   "source": [
    "`TARGET2` plates are \"sentinel\" plates that are run in each batch. More on all this in future updates."
   ]
  },
  {
   "cell_type": "markdown",
   "id": "eabf6b7f",
   "metadata": {},
   "source": [
    "## Loading profiles\n",
    "Now let's load the profiles from these plates.\n",
    "\n",
    "Setting `columns = None` below will load all of the features.\n",
    "\n",
    "<div class=\"alert alert-warning\">\n",
    "WARNING: Files are located in S3. This loop loads only two features per each sampled plate; loading many feature and/or many plates can take several minutes.\n",
    "</div>"
   ]
  },
  {
   "cell_type": "code",
   "execution_count": null,
   "id": "a2f872d7",
   "metadata": {},
   "outputs": [],
   "source": [
    "dframes = []\n",
    "columns = [\n",
    "    \"Metadata_Source\",\n",
    "    \"Metadata_Plate\",\n",
    "    \"Metadata_Well\",\n",
    "    \"Cells_AreaShape_Eccentricity\",\n",
    "    \"Nuclei_AreaShape_Area\",\n",
    "]\n",
    "for _, row in sample.iterrows():\n",
    "    s3_path = profile_formatter.format(**row.to_dict())\n",
    "    dframes.append(\n",
    "        pd.read_parquet(s3_path, storage_options={\"anon\": True}, columns=columns)\n",
    "    )\n",
    "dframes = pd.concat(dframes)\n"
   ]
  },
  {
   "cell_type": "markdown",
   "id": "5be19048",
   "metadata": {},
   "source": [
    "Each row in `dframes` is well-level profile, containing thousands of features (n=4762) averaged over (typically) a couple of thousand cells per well."
   ]
  },
  {
   "cell_type": "markdown",
   "id": "d5f4b16f",
   "metadata": {},
   "source": [
    "## Join features with metadata\n",
    "\n",
    "The profiles are annotated with only three columns of metadata (source, plate, well).\n",
    "\n",
    "Let's add more metadata!"
   ]
  },
  {
   "cell_type": "code",
   "execution_count": null,
   "id": "51eec40a",
   "metadata": {},
   "outputs": [],
   "source": [
    "metadata = compound.merge(wells, on=\"Metadata_JCP2022\")\n",
    "ann_dframe = metadata.merge(\n",
    "    dframes, on=[\"Metadata_Source\", \"Metadata_Plate\", \"Metadata_Well\"]\n",
    ")\n"
   ]
  },
  {
   "cell_type": "markdown",
   "id": "fd18825b",
   "metadata": {},
   "source": [
    "We now know a little bit more about each profile:"
   ]
  },
  {
   "cell_type": "code",
   "execution_count": null,
   "id": "4ce31d1b",
   "metadata": {},
   "outputs": [],
   "source": [
    "ann_dframe.sample(2, random_state=42)\n"
   ]
  },
  {
   "cell_type": "markdown",
   "id": "73b7cb6b",
   "metadata": {},
   "source": [
    "More metadata information will be added in the future. "
   ]
  },
  {
   "cell_type": "markdown",
   "id": "28f67064",
   "metadata": {},
   "source": [
    "## Plot features\n",
    "\n",
    "\n",
    "The scatterplot below contains every well in the sampled dataset.\n",
    "\n",
    "In the interactive plot (see settings for `pio.renderers.default` above), you can hover over the points to see the JCP ID and the InChiKey for a given compound.\n",
    "\n",
    "<div class=\"alert alert-warning\">\n",
    "NOTE: Because these are raw, unnormalized features, you will notice discernable clusters corresponding to each source due to batch effects.\n",
    "Upcoming data releases will included normalized features, where these effects are mitigated to some extent. \n",
    "</div>"
   ]
  },
  {
   "cell_type": "code",
   "execution_count": null,
   "id": "8f53eb9e",
   "metadata": {},
   "outputs": [],
   "source": [
    "from pickle import FALSE, TRUE\n",
    "\n",
    "px.scatter(\n",
    "    ann_dframe,\n",
    "    x=\"Cells_AreaShape_Eccentricity\",\n",
    "    y=\"Nuclei_AreaShape_Area\",\n",
    "    color=\"Metadata_Source\",\n",
    "    hover_name=\"Metadata_JCP2022\",\n",
    "    hover_data=[\"Metadata_InChIKey\"],\n",
    ")\n"
   ]
  },
  {
   "attachments": {},
   "cell_type": "markdown",
   "id": "4bfb1c6b",
   "metadata": {},
   "source": [
    "So that's just a couple of (raw) measurements from the sentinel plates for ~66% of the sources, for the principal dataset alone. \n",
    "\n",
    "There's a lot more to come! We will add more example notebooks as we go."
   ]
  },
  {
   "attachments": {},
   "cell_type": "markdown",
   "id": "5642a156",
   "metadata": {},
   "source": [
    "## Load images\n",
    "\n",
    "[LoadData](https://cellprofiler-manual.s3.amazonaws.com/CPmanual/LoadData.html) CSV files provide Metadata associated with the images to be processed."
   ]
  },
  {
   "cell_type": "code",
   "execution_count": null,
   "id": "21a770f0",
   "metadata": {},
   "outputs": [],
   "source": [
    "load_data = []\n",
    "for _, row in sample.iterrows():\n",
    "    s3_path = loaddata_formatter.format(**row.to_dict())\n",
    "    load_data.append(pd.read_parquet(s3_path, storage_options={\"anon\": True}))\n",
    "load_data = pd.concat(load_data)\n"
   ]
  },
  {
   "attachments": {},
   "cell_type": "markdown",
   "id": "43218598",
   "metadata": {},
   "source": [
    "Let's pick a row at random and inspect it"
   ]
  },
  {
   "cell_type": "code",
   "execution_count": null,
   "id": "f7323582",
   "metadata": {},
   "outputs": [],
   "source": [
    "sample_loaddata = load_data.sample(1, random_state=42)\n",
    "pd.melt(sample_loaddata)"
   ]
  },
  {
   "attachments": {},
   "cell_type": "markdown",
   "id": "305b5576",
   "metadata": {},
   "source": [
    "The `Metadata_` columns can be used to link the images to profiles. \n",
    "Let's pick a profile and view it's corresponding image. "
   ]
  },
  {
   "cell_type": "code",
   "execution_count": null,
   "id": "1bb2961c",
   "metadata": {},
   "outputs": [],
   "source": [
    "sample_profile = ann_dframe.sample(1, random_state=42)\n",
    "sample_profile.melt()"
   ]
  },
  {
   "attachments": {},
   "cell_type": "markdown",
   "id": "9b9a4a99",
   "metadata": {},
   "source": [
    "First link the profile to it's images.\n",
    "These are well-level profiles, and each well has typically 9 sites imaged."
   ]
  },
  {
   "cell_type": "code",
   "execution_count": null,
   "id": "5121ec3d",
   "metadata": {},
   "outputs": [],
   "source": [
    "sample_linked = pd.merge(\n",
    "    load_data, sample_profile, on=[\"Metadata_Source\", \"Metadata_Plate\", \"Metadata_Well\"]\n",
    ")\n",
    "sample_linked[['Metadata_Well', 'Metadata_Site']]"
   ]
  },
  {
   "attachments": {},
   "cell_type": "markdown",
   "id": "81a5da16",
   "metadata": {},
   "source": [
    "Inspect details of a single site for this profile"
   ]
  },
  {
   "cell_type": "code",
   "execution_count": null,
   "id": "5f4450d3",
   "metadata": {},
   "outputs": [],
   "source": [
    "sample_linked.iloc[:1].melt()"
   ]
  },
  {
   "attachments": {},
   "cell_type": "markdown",
   "id": "5ee620aa",
   "metadata": {},
   "source": [
    "Now load and display a single channel of this 5-channel image"
   ]
  },
  {
   "cell_type": "code",
   "execution_count": null,
   "id": "b5ed1058",
   "metadata": {},
   "outputs": [],
   "source": [
    "import os\n",
    "import requests\n",
    "from io import BytesIO\n",
    "from matplotlib import pyplot as plt\n",
    "from matplotlib import image as mpimg\n",
    "import boto3\n",
    "\n",
    "image_url = os.path.join(\n",
    "    sample_linked.iloc[0].PathName_OrigDNA, sample_linked.iloc[0].FileName_OrigDNA\n",
    ")\n",
    "s3_client = boto3.client(\"s3\")\n",
    "response = s3_client.get_object(\n",
    "    Bucket=image_url.split(\"/\")[2], Key=\"/\".join(image_url.split(\"/\")[3:])\n",
    ")\n",
    "image = mpimg.imread(BytesIO(response[\"Body\"].read()), format=\"tiff\")\n",
    "\n",
    "plt.imshow(image, cmap=\"gray\")\n",
    "image_url\n"
   ]
  }
 ],
 "metadata": {
  "kernelspec": {
   "display_name": "Python 3.10.6 ('datasets-WmsNNUi2')",
   "language": "python",
   "name": "python3"
  },
  "language_info": {
   "codemirror_mode": {
    "name": "ipython",
    "version": 3
   },
   "file_extension": ".py",
   "mimetype": "text/x-python",
   "name": "python",
   "nbconvert_exporter": "python",
   "pygments_lexer": "ipython3",
   "version": "3.10.6"
  },
  "vscode": {
   "interpreter": {
    "hash": "99b7565f135174dc0b2b48bf12677acb9f68934ef480bdca979ca8cd3dcbc0b9"
   }
  }
 },
 "nbformat": 4,
 "nbformat_minor": 5
}
