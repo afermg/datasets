{
 "cells": [
  {
   "cell_type": "markdown",
   "id": "35734827",
   "metadata": {},
   "source": [
    "# Workspace setup\n",
    "\n",
    "This notebook installs the Python dependencies and metadata required by the other notebooks in this workspace. It takes less than a minute to run to completion."
   ]
  },
  {
   "cell_type": "markdown",
   "id": "82de2615",
   "metadata": {},
   "source": [
    "## Install Python dependencies"
   ]
  },
  {
   "cell_type": "code",
   "execution_count": null,
   "id": "6c2eba77",
   "metadata": {},
   "outputs": [],
   "source": [
    "%pip install boto3 kaleido plotly s3fs"
   ]
  },
  {
   "cell_type": "markdown",
   "id": "d460f1cd",
   "metadata": {},
   "source": [
    "## Download the metadata\n",
    "\n",
    "Do this by cloning the GitHub repo to a directory under $HOME. Also give that git clone directory a more descriptive name."
   ]
  },
  {
   "cell_type": "code",
   "execution_count": null,
   "id": "13339c5c",
   "metadata": {},
   "outputs": [],
   "source": [
    "%%bash\n",
    "\n",
    "if [ ! -d \"~/jump-cellpainting-datasets\" ]; then\n",
    "    git clone https://github.com/jump-cellpainting/datasets.git ~/jump-cellpainting-datasets\n",
    "else\n",
    "    cd ~/jump-cellpainting-datasets\n",
    "    git pull\n",
    "fi"
   ]
  }
 ],
 "metadata": {
  "kernelspec": {
   "display_name": "Python 3",
   "language": "python",
   "name": "python3"
  },
  "language_info": {
   "codemirror_mode": {
    "name": "ipython",
    "version": 3
   },
   "file_extension": ".py",
   "mimetype": "text/x-python",
   "name": "python",
   "nbconvert_exporter": "python",
   "pygments_lexer": "ipython3",
   "version": "3.7.12"
  },
  "toc": {
   "base_numbering": 1,
   "nav_menu": {},
   "number_sections": true,
   "sideBar": true,
   "skip_h1_title": false,
   "title_cell": "Table of Contents",
   "title_sidebar": "Contents",
   "toc_cell": false,
   "toc_position": {},
   "toc_section_display": true,
   "toc_window_display": true
  },
  "vscode": {
   "interpreter": {
    "hash": "99b7565f135174dc0b2b48bf12677acb9f68934ef480bdca979ca8cd3dcbc0b9"
   }
  }
 },
 "nbformat": 4,
 "nbformat_minor": 5
}
